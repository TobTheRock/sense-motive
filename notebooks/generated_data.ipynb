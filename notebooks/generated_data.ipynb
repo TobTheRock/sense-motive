{
 "cells": [
  {
   "attachments": {},
   "cell_type": "markdown",
   "metadata": {},
   "source": [
    "# Playground with generated data"
   ]
  },
  {
   "attachments": {},
   "cell_type": "markdown",
   "metadata": {},
   "source": [
    "## Dependencies"
   ]
  },
  {
   "cell_type": "code",
   "execution_count": null,
   "metadata": {
    "vscode": {
     "languageId": "rust"
    }
   },
   "outputs": [],
   "source": [
    ":dep plotly = { version = \">=0.6.0\" }\n",
    ":dep sense-motive  = { path = \"..\" }"
   ]
  },
  {
   "cell_type": "code",
   "execution_count": null,
   "metadata": {
    "vscode": {
     "languageId": "rust"
    }
   },
   "outputs": [],
   "source": [
    "extern crate plotly;\n",
    "extern crate rand;\n",
    "extern crate sense_motive;"
   ]
  },
  {
   "cell_type": "code",
   "execution_count": null,
   "metadata": {
    "vscode": {
     "languageId": "rust"
    }
   },
   "outputs": [],
   "source": [
    "use std::f64::consts::PI;\n",
    "\n",
    "use plotly::{\n",
    "    color::{NamedColor}\n",
    "    common::{Line, Marker, MarkerSymbol, Mode},\n",
    "    Plot, Scatter, Trace\n",
    "};\n",
    "use rand::{\n",
    "    distributions::{uniform::SampleUniform, Uniform},\n",
    "    Rng,\n",
    "};\n",
    "use sense_motive::{Model, ModelBuilder, Transformation};"
   ]
  },
  {
   "attachments": {},
   "cell_type": "markdown",
   "metadata": {},
   "source": [
    "## Configuration"
   ]
  },
  {
   "attachments": {},
   "cell_type": "markdown",
   "metadata": {},
   "source": [
    "Model parameters:"
   ]
  },
  {
   "cell_type": "code",
   "execution_count": null,
   "metadata": {
    "vscode": {
     "languageId": "rust"
    }
   },
   "outputs": [],
   "source": [
    "const N: usize = 1024;  // No. of original samples\n",
    "const M: usize = 256;   // No. of compressed samples\n",
    "const K: usize = 32;   // No. of sparse components\n",
    "\n",
    "const TRANSFORM: Transformation = Transformation::Dct1dInverse; // Transformation used"
   ]
  },
  {
   "attachments": {},
   "cell_type": "markdown",
   "metadata": {},
   "source": [
    "Plot setting:"
   ]
  },
  {
   "cell_type": "code",
   "execution_count": null,
   "metadata": {
    "vscode": {
     "languageId": "rust"
    }
   },
   "outputs": [],
   "source": [
    "let default_marker = Marker::new().size(4);"
   ]
  },
  {
   "attachments": {},
   "cell_type": "markdown",
   "metadata": {},
   "source": [
    "## Simulation"
   ]
  },
  {
   "attachments": {},
   "cell_type": "markdown",
   "metadata": {},
   "source": [
    "Build the model:"
   ]
  },
  {
   "cell_type": "code",
   "execution_count": null,
   "metadata": {
    "vscode": {
     "languageId": "rust"
    }
   },
   "outputs": [],
   "source": [
    "let model: Model = ModelBuilder::new()\n",
    "    .with_transformation(TRANSFORM)\n",
    "    .build(M,N);"
   ]
  },
  {
   "attachments": {},
   "cell_type": "markdown",
   "metadata": {},
   "source": [
    "Generate the original signal and compress it :"
   ]
  },
  {
   "cell_type": "code",
   "execution_count": null,
   "metadata": {
    "vscode": {
     "languageId": "rust"
    }
   },
   "outputs": [],
   "source": [
    "let original = match TRANSFORM {\n",
    "    Transformation::None => generate_sparse_signal(K),\n",
    "    Transformation::Dct1dInverse => generate_cos_signal(K),\n",
    "    Transformation::Dct1d => generate_cos_signal(K),\n",
    "    Transformation::Fourier1dInverse => todo!(),\n",
    "    Transformation::Fourier1d => todo!(),\n",
    "};\n",
    "\n",
    "let mut plot = Plot::new();\n",
    "\n",
    "let trace = Scatter::new((0..N - 1).collect(), original.clone())\n",
    "    .name(\"Original\")\n",
    "    .mode(Mode::Lines);\n",
    "plot.add_trace(trace);\n",
    "\n",
    "plot.notebook_display();\n",
    "\n",
    "fn generate_cos_signal(sparsity: usize) -> Vec<f64> {\n",
    "    let frequencies = random_values(sparsity, 0.0, 10.0);\n",
    "    let amplitudes = random_values(sparsity, 0.0, 1.0);\n",
    "    let params: Vec<(f64, f64)> = frequencies.zip(amplitudes).collect();\n",
    "\n",
    "    (0..N)\n",
    "        .map(|i| i as f64 / N as f64)\n",
    "        .map(|i| {\n",
    "            params\n",
    "                .iter()\n",
    "                .map(|(f, a)| (a * (i * 2.0 * PI * f).cos()))\n",
    "                .sum()\n",
    "        })\n",
    "        .collect()\n",
    "}\n",
    "\n",
    "fn generate_sparse_signal(sparsity: usize) -> Vec<f64> {\n",
    "    let indices = random_values(sparsity, 0, N);\n",
    "    let amplitudes = random_values(sparsity, 0.0, 1.0);\n",
    "\n",
    "    let mut signal = vec![0.0; N];\n",
    "    for (i, a) in indices.zip(amplitudes) {\n",
    "        signal[i] = a;\n",
    "    }\n",
    "\n",
    "    signal\n",
    "}\n",
    "\n",
    "fn random_values<T>(n: usize, min: T, max: T) -> impl Iterator<Item = T>\n",
    "where\n",
    "    T: SampleUniform,\n",
    "{\n",
    "    rand::thread_rng()\n",
    "        .sample_iter(Uniform::new(min, max))\n",
    "        .take(n)\n",
    "}\n",
    "\n"
   ]
  },
  {
   "attachments": {},
   "cell_type": "markdown",
   "metadata": {},
   "source": [
    "Compress it:"
   ]
  },
  {
   "cell_type": "code",
   "execution_count": null,
   "metadata": {
    "vscode": {
     "languageId": "rust"
    }
   },
   "outputs": [],
   "source": [
    "\n",
    "let compressed = model.compress(&original);\n",
    "\n",
    "let mut plot = Plot::new();\n",
    "\n",
    "let trace = Scatter::new((0..N - 1).collect(), compressed.clone())\n",
    "    .name(\"Compressed\")\n",
    "    .mode(Mode::LinesMarkers)\n",
    "    .marker(default_marker.clone().symbol(MarkerSymbol::Cross));\n",
    "plot.add_trace(trace);\n",
    "\n",
    "\n",
    "plot.notebook_display();"
   ]
  },
  {
   "cell_type": "markdown",
   "metadata": {},
   "source": [
    "Decompress:"
   ]
  },
  {
   "cell_type": "code",
   "execution_count": null,
   "metadata": {
    "vscode": {
     "languageId": "rust"
    }
   },
   "outputs": [],
   "source": [
    "let decompressed = model.decompress(&compressed);\n",
    "let error = difference(&original, &decompressed);\n",
    "\n",
    "\n",
    "let mut plot = Plot::new();\n",
    "\n",
    "let trace = Scatter::new((0..N - 1).collect(), original.clone())\n",
    "    .name(\"Original\")\n",
    "    .mode(Mode::Lines);\n",
    "plot.add_trace(trace);\n",
    "\n",
    "let trace = Scatter::new((0..N - 1).collect(), decompressed.clone())\n",
    "    .name(\"Decompressed\")\n",
    "    .mode(Mode::LinesMarkersText)\n",
    "    .marker(default_marker.clone().symbol(MarkerSymbol::Circle));\n",
    "plot.add_trace(trace);\n",
    "\n",
    "let trace = Scatter::new((0..N - 1).collect(), error.clone())\n",
    "    .name(\"Error\")\n",
    "    .mode(Mode::LinesText)\n",
    "        .line(Line::new().color(NamedColor::Red).width(0.5));\n",
    "plot.add_trace(trace);\n",
    "\n",
    "plot.notebook_display();\n",
    "\n",
    "fn difference(original: &Vec<f64>, decompressed: &Vec<f64>) -> Vec<f64> {\n",
    "    original\n",
    "        .iter()\n",
    "        .zip(decompressed.iter())\n",
    "        .map(|(a, b)| (a - b))\n",
    "        .collect()\n",
    "}"
   ]
  },
  {
   "attachments": {},
   "cell_type": "markdown",
   "metadata": {},
   "source": [
    "Total error:"
   ]
  },
  {
   "cell_type": "code",
   "execution_count": null,
   "metadata": {
    "editable": true,
    "slideshow": {
     "slide_type": ""
    },
    "tags": [],
    "vscode": {
     "languageId": "rust"
    }
   },
   "outputs": [],
   "source": [
    "println!(\n",
    "    \"Error (normalized to N) {}\",\n",
    "    norm_l2(&error) / (N as f64)\n",
    ");\n",
    "\n",
    "fn norm_l2(vec: &Vec<f64>) -> f64 {\n",
    "    vec.iter()\n",
    "        .map(|i| i.powi(2))\n",
    "        .sum()\n",
    "}\n"
   ]
  },
  {
   "cell_type": "code",
   "execution_count": null,
   "metadata": {},
   "outputs": [],
   "source": []
  }
 ],
 "metadata": {
  "kernelspec": {
   "display_name": "Rust",
   "language": "rust",
   "name": "rust"
  },
  "language_info": {
   "codemirror_mode": "rust",
   "file_extension": ".rs",
   "mimetype": "text/rust",
   "name": "Rust",
   "pygment_lexer": "rust",
   "version": ""
  }
 },
 "nbformat": 4,
 "nbformat_minor": 4
}
